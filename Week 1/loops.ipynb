{
 "cells": [
  {
   "cell_type": "markdown",
   "metadata": {},
   "source": [
    "1. Write a program that generates a random number between 1 and 100. The user has to guess the number in a limited number of attempts. Provide feedback after each guess (higher, lower, or correct)."
   ]
  },
  {
   "cell_type": "code",
   "execution_count": 11,
   "metadata": {},
   "outputs": [
    {
     "name": "stdout",
     "output_type": "stream",
     "text": [
      "higher\n",
      "higher\n",
      "higher\n",
      "higher\n",
      "higher\n",
      "Lower\n",
      "Lower\n",
      "Correct. The number was 8\n"
     ]
    }
   ],
   "source": [
    "# Write a program that generates a random number between 1 and 100. The user has to guess the number in a limited number of attempts. Provide feedback after each guess (higher, lower, or correct).\n",
    "import random\n",
    "\n",
    "solution = random.randint(1,100)\n",
    "user_input = None\n",
    "\n",
    "while user_input != solution:\n",
    "    if user_input != None:\n",
    "        if user_input > solution: \n",
    "            print(\"Lower\")\n",
    "        else:\n",
    "            print(\"higher\")\n",
    "    user_input = int(input(\"Enter Guess > \"))\n",
    "print(\"Correct. The number was\", solution)\n"
   ]
  },
  {
   "cell_type": "markdown",
   "metadata": {},
   "source": [
    "2. Write a program that allows the user to enter two numbers and an operator (+, -, *, /) and perform the corresponding calculation. Use conditional statements to handle different operators"
   ]
  },
  {
   "cell_type": "code",
   "execution_count": 15,
   "metadata": {},
   "outputs": [
    {
     "name": "stdout",
     "output_type": "stream",
     "text": [
      "0.0\n"
     ]
    }
   ],
   "source": [
    "# Write a program that allows the user to enter two numbers and an operator (+, -, *, /) and perform the corresponding calculation. Use conditional statements to handle different operators\n",
    "num1 = None\n",
    "sign = None\n",
    "num2 = None\n",
    "ans = None\n",
    "while num2 == None:\n",
    "    num1 = float(input(\">>\"))\n",
    "    sign = input(\">>\")\n",
    "    num2 = float(input(\">>\"))\n",
    "    if sign == \"+\":\n",
    "        ans = num2 + num2\n",
    "    elif sign == \"-\":\n",
    "        ans = num1 - num2\n",
    "    elif sign == \"*\":\n",
    "        ans = num1 * num2\n",
    "    elif sign == \"/\":\n",
    "        ans = num1 / num2\n",
    "    else:\n",
    "        print(\"Invalid Operator!\")\n",
    "        break\n",
    "    print(ans)\n",
    "\n",
    "\n"
   ]
  },
  {
   "cell_type": "markdown",
   "metadata": {},
   "source": [
    "3. Write a program that uses a while loop to check if a number entered by the user is a prime number (divisible only by 1 and itself)."
   ]
  },
  {
   "cell_type": "code",
   "execution_count": 17,
   "metadata": {},
   "outputs": [
    {
     "name": "stdout",
     "output_type": "stream",
     "text": [
      "Prime\n"
     ]
    }
   ],
   "source": [
    "num = int(input(\"Enter Number: \"))\n",
    "i = 2\n",
    "prime = True\n",
    "while i != num:\n",
    "    if (num % i) == 0:\n",
    "        prime = False\n",
    "        break\n",
    "    i += 1\n",
    "\n",
    "if prime == True:\n",
    "    print(\"Prime\")\n",
    "else:\n",
    "    print(\"Not Prime\")\n",
    "        "
   ]
  },
  {
   "cell_type": "markdown",
   "metadata": {},
   "source": [
    "4. Write a program that uses a for loop to print the multiplication table of a number entered by the user (up to a specified number of multiples)."
   ]
  },
  {
   "cell_type": "code",
   "execution_count": 19,
   "metadata": {},
   "outputs": [
    {
     "name": "stdout",
     "output_type": "stream",
     "text": [
      "6 * 0 = 0\n",
      "6 * 1 = 6\n",
      "6 * 2 = 12\n",
      "6 * 3 = 18\n",
      "6 * 4 = 24\n",
      "6 * 5 = 30\n"
     ]
    }
   ],
   "source": [
    "number = int(input(\"Enter number: \"))\n",
    "limit = int(input(\"Enter limit: \"))\n",
    "for i in range(0, limit + 1):\n",
    "    print(number, \"*\", i, \"=\", number * i)"
   ]
  },
  {
   "cell_type": "markdown",
   "metadata": {},
   "source": [
    "5. Write a program that uses a for loop to calculate the sum of numbers from 1 to a given number entered by the user."
   ]
  },
  {
   "cell_type": "code",
   "execution_count": 3,
   "metadata": {},
   "outputs": [
    {
     "data": {
      "text/plain": [
       "10"
      ]
     },
     "execution_count": 3,
     "metadata": {},
     "output_type": "execute_result"
    }
   ],
   "source": [
    "limit = int(input(\"Enter limit: \"))\n",
    "sum = 0\n",
    "for i in range(1, limit+1):\n",
    "    sum += i\n",
    "\n",
    "sum"
   ]
  },
  {
   "cell_type": "markdown",
   "metadata": {},
   "source": [
    "6. Write a program that uses a for loop to print a pattern of stars or characters like a triangle."
   ]
  },
  {
   "cell_type": "code",
   "execution_count": 22,
   "metadata": {},
   "outputs": [
    {
     "name": "stdout",
     "output_type": "stream",
     "text": [
      "    *\n",
      "   ***\n",
      "  *****\n",
      " *******\n",
      "*********\n"
     ]
    }
   ],
   "source": [
    "num_rows =  5\n",
    "for i in range(1, num_rows + 1):\n",
    "    print(' ' * (num_rows - i), end='')\n",
    "    print('*' * (2 * i - 1))\n",
    "\n"
   ]
  },
  {
   "cell_type": "markdown",
   "metadata": {},
   "source": [
    "7. Write a program that uses a while loop to generate a random number between 1 and 100. The user has to guess the number within a limited number of attempts. Provide feedback after each guess.\n"
   ]
  },
  {
   "cell_type": "code",
   "execution_count": 27,
   "metadata": {},
   "outputs": [
    {
     "name": "stdout",
     "output_type": "stream",
     "text": [
      "higher 2\n",
      "You have 4 attempts left\n",
      "higher 6\n",
      "You have 3 attempts left\n",
      "higher 20\n",
      "You have 2 attempts left\n",
      "lower 90\n",
      "You have 1 attempts left\n",
      "higher 20\n",
      "You have 0 attempts left\n",
      "Out of Tries\n"
     ]
    }
   ],
   "source": [
    "import random\n",
    "\n",
    "max = 5\n",
    "num = random.randint(1,100)\n",
    "ans = None\n",
    "while ans != num and max != 0:\n",
    "    ans = int(input(\"Enter guess: \"))\n",
    "    if ans > num:\n",
    "        print(\"lower\", ans)\n",
    "    else:\n",
    "        print(\"higher\", ans)\n",
    "\n",
    "    max -= 1\n",
    "    print(\"You have\", max, \"attempts left\")\n",
    "    \n",
    "if ans == num :\n",
    "    print(\"You Got it!\", ans)\n",
    "else:\n",
    "    print(\"Out of Tries\")"
   ]
  },
  {
   "cell_type": "code",
   "execution_count": null,
   "metadata": {},
   "outputs": [],
   "source": []
  }
 ],
 "metadata": {
  "kernelspec": {
   "display_name": "env",
   "language": "python",
   "name": "python3"
  },
  "language_info": {
   "codemirror_mode": {
    "name": "ipython",
    "version": 3
   },
   "file_extension": ".py",
   "mimetype": "text/x-python",
   "name": "python",
   "nbconvert_exporter": "python",
   "pygments_lexer": "ipython3",
   "version": "3.11.4"
  }
 },
 "nbformat": 4,
 "nbformat_minor": 2
}
