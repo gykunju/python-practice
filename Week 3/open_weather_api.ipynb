{
 "cells": [
  {
   "cell_type": "markdown",
   "metadata": {},
   "source": [
    "# Current Weather API"
   ]
  },
  {
   "cell_type": "code",
   "execution_count": null,
   "metadata": {},
   "outputs": [],
   "source": [
    "pip install requests\n"
   ]
  },
  {
   "cell_type": "code",
   "execution_count": null,
   "metadata": {},
   "outputs": [],
   "source": [
    "import requests\n",
    "import json"
   ]
  },
  {
   "cell_type": "code",
   "execution_count": null,
   "metadata": {},
   "outputs": [],
   "source": [
    "api_key = \"f60e3a87d75da28e11f00f9dd4953da8\"\n",
    "base_url = \"https://api.openweathermap.org/data/2.5/weather\"\n",
    "city_name = 'London'\n",
    "\n",
    "# https://api.openweathermap.org/data/2.5/weather?q={city name}&appid={API key}"
   ]
  },
  {
   "cell_type": "code",
   "execution_count": null,
   "metadata": {},
   "outputs": [],
   "source": [
    "url = f\"{base_url}?q={city_name}&appid={api_key}\""
   ]
  },
  {
   "cell_type": "code",
   "execution_count": null,
   "metadata": {},
   "outputs": [],
   "source": [
    "response = requests.get(url)\n",
    "response.status_code"
   ]
  },
  {
   "cell_type": "code",
   "execution_count": null,
   "metadata": {},
   "outputs": [],
   "source": [
    "response.json()"
   ]
  },
  {
   "cell_type": "code",
   "execution_count": null,
   "metadata": {},
   "outputs": [],
   "source": [
    "lat = \"-1.2833\"\n",
    "lon = \"36.8167\"\n",
    "\n",
    "url = f\"{base_url}?lat={lat}&lon={lon}&appid={api_key}\"\n",
    "\n",
    "response2 = requests.get(url)\n",
    "\n",
    "ans =response2.json()"
   ]
  },
  {
   "cell_type": "code",
   "execution_count": null,
   "metadata": {},
   "outputs": [],
   "source": [
    "ans[\"weather\"]"
   ]
  },
  {
   "cell_type": "markdown",
   "metadata": {},
   "source": [
    "# Air Pollution API"
   ]
  },
  {
   "cell_type": "code",
   "execution_count": null,
   "metadata": {},
   "outputs": [],
   "source": [
    "air_base_url = \"http://api.openweathermap.org/data/2.5/air_pollution\"\n",
    "\n",
    "api_key = \"f60e3a87d75da28e11f00f9dd4953da8\"\n",
    "lat = \"-1.2833\"\n",
    "lon = \"36.8167\"\n",
    "\n",
    "air_url = f\"{air_base_url}?lat={lat}&lon={lon}&appid={api_key}\"\n",
    "\n",
    "pollution_request = requests.get(air_url)\n",
    "pollution = pollution_request.json()\n",
    "pollution"
   ]
  },
  {
   "cell_type": "markdown",
   "metadata": {},
   "source": [
    "# Geocoding API"
   ]
  },
  {
   "cell_type": "code",
   "execution_count": null,
   "metadata": {},
   "outputs": [],
   "source": [
    "geo_base_url = \"http://api.openweathermap.org/geo/1.0/direct\"\n",
    "api_key = \"f60e3a87d75da28e11f00f9dd4953da8\""
   ]
  },
  {
   "cell_type": "code",
   "execution_count": null,
   "metadata": {},
   "outputs": [],
   "source": [
    "geo_url = f\"{geo_base_url}?q={city_name}&appid={api_key}\"\n",
    "geo_response  = requests.get(geo_url)\n",
    "geo_response.status_code"
   ]
  },
  {
   "cell_type": "code",
   "execution_count": null,
   "metadata": {},
   "outputs": [],
   "source": [
    "geo_json = geo_response.json()\n",
    "geo_json"
   ]
  }
 ],
 "metadata": {
  "language_info": {
   "name": "python"
  }
 },
 "nbformat": 4,
 "nbformat_minor": 2
}
