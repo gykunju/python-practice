{
  "nbformat": 4,
  "nbformat_minor": 0,
  "metadata": {
    "colab": {
      "provenance": []
    },
    "kernelspec": {
      "name": "python3",
      "display_name": "Python 3"
    },
    "language_info": {
      "name": "python"
    }
  },
  "cells": [
    {
      "cell_type": "code",
      "execution_count": 2,
      "metadata": {
        "id": "2t4yeZWPgPwl"
      },
      "outputs": [],
      "source": [
        "import requests\n",
        "from bs4 import BeautifulSoup"
      ]
    },
    {
      "cell_type": "code",
      "source": [
        "url = \"https://www.careerpointkenya.co.ke/cv-writing-services-kenya/\""
      ],
      "metadata": {
        "id": "8u8ebk-TjT6M"
      },
      "execution_count": 6,
      "outputs": []
    },
    {
      "cell_type": "code",
      "source": [
        "response = requests.get(url)\n",
        "response.status_code"
      ],
      "metadata": {
        "colab": {
          "base_uri": "https://localhost:8080/"
        },
        "id": "UxXPeWqsjYEV",
        "outputId": "09df131f-5f49-4eaf-cf32-2515709da9ef"
      },
      "execution_count": 9,
      "outputs": [
        {
          "output_type": "execute_result",
          "data": {
            "text/plain": [
              "200"
            ]
          },
          "metadata": {},
          "execution_count": 9
        }
      ]
    },
    {
      "cell_type": "code",
      "source": [
        "soup = BeautifulSoup(response.text, \"html.parser\")\n",
        "soup.title.string"
      ],
      "metadata": {
        "colab": {
          "base_uri": "https://localhost:8080/",
          "height": 35
        },
        "id": "tutB0JurjyFP",
        "outputId": "b415452d-9c0d-45f2-883b-67ff1e2aecea"
      },
      "execution_count": 11,
      "outputs": [
        {
          "output_type": "execute_result",
          "data": {
            "text/plain": [
              "'Professional CV Writing In Kenya - Career Point Kenya'"
            ],
            "application/vnd.google.colaboratory.intrinsic+json": {
              "type": "string"
            }
          },
          "metadata": {},
          "execution_count": 11
        }
      ]
    },
    {
      "cell_type": "code",
      "source": [
        "url = \"https://www.careerpointkenya.co.ke/\"\n",
        "response = requests.get(url)\n"
      ],
      "metadata": {
        "id": "9_9H60wCkAss"
      },
      "execution_count": 4,
      "outputs": []
    },
    {
      "cell_type": "code",
      "source": [
        "soup = BeautifulSoup(response.text, \"html.parser\")\n",
        "soup.h1.string"
      ],
      "metadata": {
        "colab": {
          "base_uri": "https://localhost:8080/",
          "height": 35
        },
        "id": "DZmkoj4CkijQ",
        "outputId": "882e39cb-2ad7-4dc4-bc2e-4bed509d1693"
      },
      "execution_count": 5,
      "outputs": [
        {
          "output_type": "execute_result",
          "data": {
            "text/plain": [
              "'Latest Jobs in Kenya & Career Advice for You'"
            ],
            "application/vnd.google.colaboratory.intrinsic+json": {
              "type": "string"
            }
          },
          "metadata": {},
          "execution_count": 5
        }
      ]
    },
    {
      "cell_type": "code",
      "source": [
        "soup.find_all(\"iframe\")"
      ],
      "metadata": {
        "colab": {
          "base_uri": "https://localhost:8080/"
        },
        "id": "pTcqhC0zk2lf",
        "outputId": "ff7ce2ab-1b3d-4726-af5f-0bc716ae2f3a"
      },
      "execution_count": 7,
      "outputs": [
        {
          "output_type": "execute_result",
          "data": {
            "text/plain": [
              "[]"
            ]
          },
          "metadata": {},
          "execution_count": 7
        }
      ]
    },
    {
      "cell_type": "code",
      "source": [
        "li_tags = soup.find_all(\"li\", class_=\"menu-item\")"
      ],
      "metadata": {
        "id": "nX7jYTXHsIUR"
      },
      "execution_count": 6,
      "outputs": []
    },
    {
      "cell_type": "code",
      "source": [
        "a_tags = []\n",
        "for li in li_tags:\n",
        "    a_tags.append(li.find(\"a\"))\n",
        "a_tags"
      ],
      "metadata": {
        "colab": {
          "base_uri": "https://localhost:8080/"
        },
        "collapsed": true,
        "id": "GK5EDJ2jwiBK",
        "outputId": "6f42a8c3-2f6f-4bae-bc4d-6cd2e772d10b"
      },
      "execution_count": 7,
      "outputs": [
        {
          "output_type": "execute_result",
          "data": {
            "text/plain": [
              "[<a aria-current=\"page\" href=\"https://www.careerpointkenya.co.ke/\">Home</a>,\n",
              " <a href=\"https://www.careerpointkenya.co.ke/jobs/\">Latest Jobs</a>,\n",
              " <a href=\"https://www.careerpointkenya.co.ke/cv-writing-services-kenya/\">CV Writing</a>,\n",
              " <a href=\"https://www.careerpointkenya.co.ke/recruitment-agencies-kenya/\">Recruitment Firms</a>,\n",
              " <a href=\"https://www.careerpointkenya.co.ke/top-common-interview-questions-and-answers-in-kenya/\">Best Interview Answers</a>,\n",
              " <a href=\"https://www.careerpointkenya.co.ke/short-courses-in-kenya-best/\">New Short Courses</a>,\n",
              " <a href=\"https://www.careerpointkenya.co.ke/free-job-advertising/\">Free Job Posting</a>,\n",
              " <a href=\"https://www.careerpointkenya.co.ke/jobs/\">New Jobs</a>,\n",
              " <a href=\"https://www.careerpointkenya.co.ke/cv-writing-services-kenya/\">CV Writing</a>,\n",
              " <a href=\"https://www.careerpointkenya.co.ke/top-common-interview-questions-and-answers-in-kenya/\">Interview Q&amp;A</a>,\n",
              " <a href=\"https://www.careerpointkenya.co.ke/short-courses-in-kenya-best/\">Short Courses</a>,\n",
              " <a href=\"https://www.careerpointkenya.co.ke/free-job-advertising/\">Free Job Advertising</a>,\n",
              " <a href=\"https://www.careerpointkenya.co.ke/recruitment-agencies-kenya/\">Agencies Listing</a>,\n",
              " <a href=\"https://www.careerpointkenya.co.ke/privacy-policy/\" rel=\"privacy-policy\">Privacy Policy</a>,\n",
              " <a aria-current=\"page\" href=\"https://www.careerpointkenya.co.ke/\">Home</a>,\n",
              " <a href=\"https://www.careerpointkenya.co.ke/jobs/\">Latest Jobs</a>,\n",
              " <a href=\"https://www.careerpointkenya.co.ke/cv-writing-services-kenya/\">CV Writing</a>,\n",
              " <a href=\"https://www.careerpointkenya.co.ke/recruitment-agencies-kenya/\">Recruitment Firms</a>,\n",
              " <a href=\"https://www.careerpointkenya.co.ke/top-common-interview-questions-and-answers-in-kenya/\">Best Interview Answers</a>,\n",
              " <a href=\"https://www.careerpointkenya.co.ke/short-courses-in-kenya-best/\">New Short Courses</a>,\n",
              " <a href=\"https://www.careerpointkenya.co.ke/free-job-advertising/\">Free Job Posting</a>]"
            ]
          },
          "metadata": {},
          "execution_count": 7
        }
      ]
    },
    {
      "cell_type": "code",
      "source": [
        "for a in a_tags:\n",
        "    print(a.text, a[\"href\"])"
      ],
      "metadata": {
        "colab": {
          "base_uri": "https://localhost:8080/"
        },
        "collapsed": true,
        "id": "AAO0Agwx1R8O",
        "outputId": "f781c6f9-486b-4a18-eb0b-92023639c786"
      },
      "execution_count": 8,
      "outputs": [
        {
          "output_type": "stream",
          "name": "stdout",
          "text": [
            "Home https://www.careerpointkenya.co.ke/\n",
            "Latest Jobs https://www.careerpointkenya.co.ke/jobs/\n",
            "CV Writing https://www.careerpointkenya.co.ke/cv-writing-services-kenya/\n",
            "Recruitment Firms https://www.careerpointkenya.co.ke/recruitment-agencies-kenya/\n",
            "Best Interview Answers https://www.careerpointkenya.co.ke/top-common-interview-questions-and-answers-in-kenya/\n",
            "New Short Courses https://www.careerpointkenya.co.ke/short-courses-in-kenya-best/\n",
            "Free Job Posting https://www.careerpointkenya.co.ke/free-job-advertising/\n",
            "New Jobs https://www.careerpointkenya.co.ke/jobs/\n",
            "CV Writing https://www.careerpointkenya.co.ke/cv-writing-services-kenya/\n",
            "Interview Q&A https://www.careerpointkenya.co.ke/top-common-interview-questions-and-answers-in-kenya/\n",
            "Short Courses https://www.careerpointkenya.co.ke/short-courses-in-kenya-best/\n",
            "Free Job Advertising https://www.careerpointkenya.co.ke/free-job-advertising/\n",
            "Agencies Listing https://www.careerpointkenya.co.ke/recruitment-agencies-kenya/\n",
            "Privacy Policy https://www.careerpointkenya.co.ke/privacy-policy/\n",
            "Home https://www.careerpointkenya.co.ke/\n",
            "Latest Jobs https://www.careerpointkenya.co.ke/jobs/\n",
            "CV Writing https://www.careerpointkenya.co.ke/cv-writing-services-kenya/\n",
            "Recruitment Firms https://www.careerpointkenya.co.ke/recruitment-agencies-kenya/\n",
            "Best Interview Answers https://www.careerpointkenya.co.ke/top-common-interview-questions-and-answers-in-kenya/\n",
            "New Short Courses https://www.careerpointkenya.co.ke/short-courses-in-kenya-best/\n",
            "Free Job Posting https://www.careerpointkenya.co.ke/free-job-advertising/\n"
          ]
        }
      ]
    },
    {
      "cell_type": "code",
      "source": [
        "## Getting html\n",
        "url = \"https://www.careerpointkenya.co.ke/\"\n",
        "response = requests.get(url)\n",
        "\n",
        "## Parsing html\n",
        "soup = BeautifulSoup(response.text, \"html.parser\")\n",
        "\n",
        "## Getting categories\n",
        "categories = soup.find_all(\"div\", class_=\"kt-inside-inner-col\")\n",
        "categories\n",
        "\n",
        "## getting jobs\n",
        "jobs = categories[2].find_all(\"h3\")\n",
        "for job in jobs:\n",
        "    print(job.text)\n",
        "\n",
        "## getting links\n",
        "links = categories[2].find_all(\"a\")\n",
        "for link in links:\n",
        "    print(link[\"href\"])\n",
        "\n",
        "\n",
        "jobs_and_links = zip(categories[2].find_all(\"h3\"), categories[2].find_all(\"a\"))\n",
        "\n",
        "for job, link in jobs_and_links:\n",
        "    print(f\"{job.text}: {link['href']}\")\n",
        "\n"
      ],
      "metadata": {
        "colab": {
          "base_uri": "https://localhost:8080/"
        },
        "collapsed": true,
        "id": "3wZTc7Nw2MQs",
        "outputId": "065f8723-8c78-493e-877e-9f7d2b2706a7"
      },
      "execution_count": 6,
      "outputs": [
        {
          "output_type": "stream",
          "name": "stdout",
          "text": [
            "Accounting\n",
            "Administration\n",
            "Banking\n",
            "Customer Service\n",
            "Driver\n",
            "Engineering\n",
            "HR\n",
            "Internships\n",
            "IT\n",
            "Legal\n",
            "https://www.careerpointkenya.co.ke/jobs/\n",
            "https://www.careerpointkenya.co.ke/category/accounting-jobs-in-kenya/\n",
            "https://www.careerpointkenya.co.ke/category/accounting-jobs-in-kenya/\n",
            "https://www.careerpointkenya.co.ke/category/administration-jobs-in-kenya/\n",
            "https://www.careerpointkenya.co.ke/category/administration-jobs-in-kenya/\n",
            "https://www.careerpointkenya.co.ke/category/banking-jobs-in-kenya/\n",
            "https://www.careerpointkenya.co.ke/category/banking-jobs-in-kenya/\n",
            "https://www.careerpointkenya.co.ke/category/customer-service-jobs-in-kenya/\n",
            "https://www.careerpointkenya.co.ke/category/customer-service-jobs-in-kenya/\n",
            "https://www.careerpointkenya.co.ke/category/driver-jobs-in-kenya/\n",
            "https://www.careerpointkenya.co.ke/category/driver-jobs-in-kenya/\n",
            "https://www.careerpointkenya.co.ke/category/engineering-jobs-in-kenya/\n",
            "https://www.careerpointkenya.co.ke/category/engineering-jobs-in-kenya/\n",
            "https://www.careerpointkenya.co.ke/category/hr-jobs-in-kenya/\n",
            "https://www.careerpointkenya.co.ke/category/hr-jobs-in-kenya/\n",
            "https://www.careerpointkenya.co.ke/category/internships-in-kenya/\n",
            "https://www.careerpointkenya.co.ke/category/internships-in-kenya/\n",
            "https://www.careerpointkenya.co.ke/category/it-jobs-in-kenya/\n",
            "https://www.careerpointkenya.co.ke/category/it-jobs-in-kenya/\n",
            "https://www.careerpointkenya.co.ke/category/legal-jobs-in-kenya/\n",
            "https://www.careerpointkenya.co.ke/category/legal-jobs-in-kenya/\n",
            "https://www.careerpointkenya.co.ke/jobs/\n",
            "Accounting: https://www.careerpointkenya.co.ke/jobs/\n",
            "Administration: https://www.careerpointkenya.co.ke/category/accounting-jobs-in-kenya/\n",
            "Banking: https://www.careerpointkenya.co.ke/category/accounting-jobs-in-kenya/\n",
            "Customer Service: https://www.careerpointkenya.co.ke/category/administration-jobs-in-kenya/\n",
            "Driver: https://www.careerpointkenya.co.ke/category/administration-jobs-in-kenya/\n",
            "Engineering: https://www.careerpointkenya.co.ke/category/banking-jobs-in-kenya/\n",
            "HR: https://www.careerpointkenya.co.ke/category/banking-jobs-in-kenya/\n",
            "Internships: https://www.careerpointkenya.co.ke/category/customer-service-jobs-in-kenya/\n",
            "IT: https://www.careerpointkenya.co.ke/category/customer-service-jobs-in-kenya/\n",
            "Legal: https://www.careerpointkenya.co.ke/category/driver-jobs-in-kenya/\n"
          ]
        }
      ]
    },
    {
      "cell_type": "code",
      "source": [
        "\n",
        "import requests\n",
        "from bs4 import BeautifulSoup\n",
        "url = \"https://www.careerpointkenya.co.ke/recruitment-agencies-kenya/\"\n",
        "response = requests.get(url)\n",
        "soup = BeautifulSoup(response.text, \"html.parser\")"
      ],
      "metadata": {
        "colab": {
          "base_uri": "https://localhost:8080/"
        },
        "collapsed": true,
        "id": "V0z2DuPp5eBv",
        "outputId": "be2f470a-7b99-47c8-d727-f941bc6b3da9"
      },
      "execution_count": 16,
      "outputs": [
        {
          "output_type": "stream",
          "name": "stdout",
          "text": [
            "Accounting\n",
            "Administration\n",
            "Banking\n",
            "Customer Service\n",
            "Driver\n",
            "Engineering\n",
            "HR\n",
            "Internships\n",
            "IT\n",
            "Legal\n"
          ]
        }
      ]
    },
    {
      "cell_type": "code",
      "source": [
        "inner = soup.find_all(\"div\", class_=\"kt-inside-inner-col\")\n",
        "agencies = inner[5].find_all(\"h3\")\n",
        "links = inner[5].find_all(\"a\")\n",
        "inner[5].find_all(\"div\", class_=\"kt-adv-heading586393_942342-1e\")\n",
        "\n",
        "agencies_and_links = zip(inner[5].find_all(\"h3\"), inner[5].find_all(\"a\"))\n",
        "for job,link in agencies_and_links:\n",
        "    print(f\"{job.text}: {link['href']}\")\n",
        ""
      ],
      "metadata": {
        "id": "wBqAbIrQAxGZ"
      },
      "execution_count": null,
      "outputs": []
    }
  ]
}